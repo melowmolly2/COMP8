{
 "cells": [
  {
   "cell_type": "markdown",
   "metadata": {
    "id": "a5TMO5gOkeHk"
   },
   "source": [
    "# **Assignment** 1"
   ]
  },
  {
   "cell_type": "markdown",
   "metadata": {
    "id": "WrfjCN3MmO_-"
   },
   "source": [
    "1"
   ]
  },
  {
   "cell_type": "code",
   "execution_count": 1,
   "metadata": {
    "id": "Y1cD3dm3mIr4"
   },
   "outputs": [
    {
     "name": "stdout",
     "output_type": "stream",
     "text": [
      "Hello World\n"
     ]
    }
   ],
   "source": [
    "print(\"Hello World\")"
   ]
  },
  {
   "cell_type": "markdown",
   "metadata": {
    "id": "sEMDP7yRsyrH"
   },
   "source": [
    "2"
   ]
  },
  {
   "cell_type": "code",
   "execution_count": 6,
   "metadata": {
    "colab": {
     "base_uri": "https://localhost:8080/"
    },
    "executionInfo": {
     "elapsed": 4627,
     "status": "ok",
     "timestamp": 1757996498185,
     "user": {
      "displayName": "25021887 Phạm Thiên Minh",
      "userId": "08516294802804842978"
     },
     "user_tz": -420
    },
    "id": "GHCbuS_ds1iZ",
    "outputId": "da74cd5a-29e0-47f7-a8df-17a48a6910a4"
   },
   "outputs": [
    {
     "name": "stdout",
     "output_type": "stream",
     "text": [
      "Xin chao skibidi\n"
     ]
    }
   ],
   "source": [
    "name=input(\"Nhap ten:\")\n",
    "print(\"Xin chao\",name)"
   ]
  },
  {
   "cell_type": "markdown",
   "metadata": {
    "id": "Jf-firBAtCSM"
   },
   "source": [
    "3"
   ]
  },
  {
   "cell_type": "code",
   "execution_count": 18,
   "metadata": {
    "colab": {
     "base_uri": "https://localhost:8080/"
    },
    "executionInfo": {
     "elapsed": 2295,
     "status": "ok",
     "timestamp": 1757995729634,
     "user": {
      "displayName": "25021887 Phạm Thiên Minh",
      "userId": "08516294802804842978"
     },
     "user_tz": -420
    },
    "id": "YhL3YPE-tF6J",
    "outputId": "b3028850-4c8c-403b-f450-d5f3be112f40"
   },
   "outputs": [
    {
     "name": "stdout",
     "output_type": "stream",
     "text": [
      "Nhap a:5\n",
      "Nhap b:4\n",
      "9\n",
      "1\n",
      "20\n",
      "1\n",
      "1\n",
      "1.25\n"
     ]
    }
   ],
   "source": [
    "a=int(input(\"Nhap a:\"))\n",
    "b=int(input(\"Nhap b:\"))\n",
    "print(a+b)\n",
    "print(a-b)\n",
    "print(a*b)\n",
    "print(a//b)\n",
    "print(a%b)\n",
    "print(a/b)"
   ]
  },
  {
   "cell_type": "markdown",
   "metadata": {
    "id": "GkU23mlFthra"
   },
   "source": [
    "4"
   ]
  },
  {
   "cell_type": "code",
   "execution_count": 48,
   "metadata": {
    "colab": {
     "base_uri": "https://localhost:8080/"
    },
    "executionInfo": {
     "elapsed": 7087,
     "status": "ok",
     "timestamp": 1757997010186,
     "user": {
      "displayName": "25021887 Phạm Thiên Minh",
      "userId": "08516294802804842978"
     },
     "user_tz": -420
    },
    "id": "967a071e",
    "outputId": "1f596afb-d858-4cb0-9c36-318a5810e7ce"
   },
   "outputs": [
    {
     "name": "stdout",
     "output_type": "stream",
     "text": [
      "1 2 3 4 5 6\n",
      "4.2\n"
     ]
    }
   ],
   "source": [
    "scores = list(map(float, input().split()))\n",
    "\n",
    "a1, b1, c1, a2, b2, a3 = scores\n",
    "\n",
    "average = ((a1 + b1 + c1) + (a2 + b2) * 2 + a3 * 3) / 10\n",
    "\n",
    "print(f\"{average:.1f}\")"
   ]
  },
  {
   "cell_type": "markdown",
   "metadata": {
    "id": "gYvxyTLtxJiz"
   },
   "source": [
    "5"
   ]
  },
  {
   "cell_type": "code",
   "execution_count": 34,
   "metadata": {
    "colab": {
     "base_uri": "https://localhost:8080/"
    },
    "executionInfo": {
     "elapsed": 2231,
     "status": "ok",
     "timestamp": 1757996540949,
     "user": {
      "displayName": "25021887 Phạm Thiên Minh",
      "userId": "08516294802804842978"
     },
     "user_tz": -420
    },
    "id": "fY7i4FIcwSrp",
    "outputId": "fd5ea9be-a35a-4c52-90bd-ff15f84d120b"
   },
   "outputs": [
    {
     "name": "stdout",
     "output_type": "stream",
     "text": [
      "Nhap a:2\n",
      "Nhap b:3\n",
      "8\n"
     ]
    }
   ],
   "source": [
    "a=int(input(\"Nhap a:\"))\n",
    "b=int(input(\"Nhap b:\"))\n",
    "print(a**b)"
   ]
  },
  {
   "cell_type": "markdown",
   "metadata": {
    "id": "C6QZt3Uywm0k"
   },
   "source": [
    "6"
   ]
  },
  {
   "cell_type": "code",
   "execution_count": 3,
   "metadata": {
    "colab": {
     "base_uri": "https://localhost:8080/"
    },
    "executionInfo": {
     "elapsed": 16,
     "status": "ok",
     "timestamp": 1757996671749,
     "user": {
      "displayName": "25021887 Phạm Thiên Minh",
      "userId": "08516294802804842978"
     },
     "user_tz": -420
    },
    "id": "_opGTdoVwn8T",
    "outputId": "96c8867b-0459-4e2c-ba6d-22d9e1999461"
   },
   "outputs": [
    {
     "name": "stdout",
     "output_type": "stream",
     "text": [
      "a\n",
      "b\n",
      "c\n",
      "d\n",
      "e\n",
      "f\n",
      "g\n",
      "h\n",
      "i\n",
      "j\n",
      "k\n",
      "l\n",
      "m\n",
      "n\n",
      "o\n",
      "p\n",
      "q\n",
      "r\n",
      "s\n",
      "t\n",
      "u\n",
      "v\n",
      "w\n",
      "x\n",
      "y\n",
      "z\n"
     ]
    }
   ],
   "source": [
    "for i in range(1,27):\n",
    "  print(chr(ord('a')+i-1))"
   ]
  },
  {
   "cell_type": "markdown",
   "metadata": {
    "id": "JTnimLI2wR_7"
   },
   "source": [
    "7"
   ]
  },
  {
   "cell_type": "code",
   "execution_count": 1,
   "metadata": {
    "colab": {
     "base_uri": "https://localhost:8080/"
    },
    "executionInfo": {
     "elapsed": 34,
     "status": "ok",
     "timestamp": 1757996751965,
     "user": {
      "displayName": "25021887 Phạm Thiên Minh",
      "userId": "08516294802804842978"
     },
     "user_tz": -420
    },
    "id": "77dwUnjoxRvF",
    "outputId": "85a46272-5a87-4f6e-850b-4639da53af7a"
   },
   "outputs": [
    {
     "name": "stdout",
     "output_type": "stream",
     "text": [
      "512\n",
      "512\n"
     ]
    }
   ],
   "source": [
    "a=((13 ** 2) * 3) + 5\n",
    "b= 13**2*3 + 5\n",
    "print(a)\n",
    "print(b)"
   ]
  },
  {
   "cell_type": "markdown",
   "metadata": {
    "id": "yWK8mE-nwEDp"
   },
   "source": [
    "8"
   ]
  },
  {
   "cell_type": "code",
   "execution_count": 32,
   "metadata": {
    "colab": {
     "base_uri": "https://localhost:8080/"
    },
    "executionInfo": {
     "elapsed": 1547,
     "status": "ok",
     "timestamp": 1757996443583,
     "user": {
      "displayName": "25021887 Phạm Thiên Minh",
      "userId": "08516294802804842978"
     },
     "user_tz": -420
    },
    "id": "kS8FMnNywG-N",
    "outputId": "90959cb9-4b2b-494b-9f67-5e460f33623d"
   },
   "outputs": [
    {
     "name": "stdout",
     "output_type": "stream",
     "text": [
      "Nhap c:5\n",
      "41.0\n"
     ]
    }
   ],
   "source": [
    "c=int(input(\"Nhap c:\"))\n",
    "f=9/5*c+32\n",
    "print(f)"
   ]
  },
  {
   "cell_type": "markdown",
   "metadata": {
    "id": "3Cmp8RsRuNfH"
   },
   "source": [
    "9"
   ]
  },
  {
   "cell_type": "code",
   "execution_count": 31,
   "metadata": {
    "colab": {
     "base_uri": "https://localhost:8080/"
    },
    "executionInfo": {
     "elapsed": 2481,
     "status": "ok",
     "timestamp": 1757996390315,
     "user": {
      "displayName": "25021887 Phạm Thiên Minh",
      "userId": "08516294802804842978"
     },
     "user_tz": -420
    },
    "id": "dTFRrcnWtia9",
    "outputId": "03ff6bfd-d5a5-4f79-9891-da8a15fbcad5"
   },
   "outputs": [
    {
     "name": "stdout",
     "output_type": "stream",
     "text": [
      "Nhap x:50\n",
      "Cai gia phai tra: 24.0\n"
     ]
    }
   ],
   "source": [
    "x=int(input(\"Nhap x:\"))\n",
    "result=(x-10)*0.6\n",
    "print(\"Cai gia phai tra:\",result)"
   ]
  },
  {
   "cell_type": "markdown",
   "metadata": {
    "id": "wJhV25bnvcL8"
   },
   "source": []
  },
  {
   "cell_type": "markdown",
   "metadata": {
    "id": "6iy7wXKWt6OF"
   },
   "source": [
    "10"
   ]
  },
  {
   "cell_type": "code",
   "execution_count": 47,
   "metadata": {
    "colab": {
     "base_uri": "https://localhost:8080/"
    },
    "executionInfo": {
     "elapsed": 2879,
     "status": "ok",
     "timestamp": 1757996871023,
     "user": {
      "displayName": "25021887 Phạm Thiên Minh",
      "userId": "08516294802804842978"
     },
     "user_tz": -420
    },
    "id": "GNp83ByOt7Y5",
    "outputId": "332e1756-40d0-4932-f58e-5464040e6433"
   },
   "outputs": [
    {
     "name": "stdout",
     "output_type": "stream",
     "text": [
      "Nhap ten:lo lo lo\n",
      "Hello lo, lo and lo\n"
     ]
    }
   ],
   "source": [
    "name=input(\"Nhap ten:\").split()\n",
    "print(f\"Hello {name[2]}, {name[1]} and {name[0]}\")"
   ]
  },
  {
   "cell_type": "markdown",
   "metadata": {
    "id": "pxr-Ev12tnc8"
   },
   "source": [
    "11"
   ]
  },
  {
   "cell_type": "code",
   "execution_count": null,
   "metadata": {
    "id": "gXIeD4EYtoJC"
   },
   "outputs": [],
   "source": [
    "hour=int(input(\"Nhap gio:\"))\n",
    "minute=int(input(\"Nhap phut:\"))\n",
    "print(hour*3600+minute*60)"
   ]
  },
  {
   "cell_type": "markdown",
   "metadata": {
    "id": "yZVzbWlhr7qp"
   },
   "source": [
    "12"
   ]
  },
  {
   "cell_type": "code",
   "execution_count": 14,
   "metadata": {
    "colab": {
     "base_uri": "https://localhost:8080/"
    },
    "executionInfo": {
     "elapsed": 1098,
     "status": "ok",
     "timestamp": 1757995349645,
     "user": {
      "displayName": "25021887 Phạm Thiên Minh",
      "userId": "08516294802804842978"
     },
     "user_tz": -420
    },
    "id": "hvE6xex7r8mv",
    "outputId": "f30ff5b8-a423-46d4-e7a7-6bf6db515b4d"
   },
   "outputs": [
    {
     "name": "stdout",
     "output_type": "stream",
     "text": [
      "1\n",
      "6\n"
     ]
    }
   ],
   "source": [
    "n=int(input())\n",
    "print(6*n*n)"
   ]
  },
  {
   "cell_type": "markdown",
   "metadata": {
    "id": "hF715d3mrkFr"
   },
   "source": [
    "13"
   ]
  },
  {
   "cell_type": "code",
   "execution_count": 12,
   "metadata": {
    "colab": {
     "base_uri": "https://localhost:8080/"
    },
    "executionInfo": {
     "elapsed": 2662,
     "status": "ok",
     "timestamp": 1757995312646,
     "user": {
      "displayName": "25021887 Phạm Thiên Minh",
      "userId": "08516294802804842978"
     },
     "user_tz": -420
    },
    "id": "2f7EYEXQrmcx",
    "outputId": "2db129bf-ad10-4e9f-c495-97b14fecac75"
   },
   "outputs": [
    {
     "name": "stdout",
     "output_type": "stream",
     "text": [
      "12\n",
      "12\n",
      "4\n"
     ]
    }
   ],
   "source": [
    "a=int(input())\n",
    "b=int(input())\n",
    "print((a*b)%10)"
   ]
  },
  {
   "cell_type": "markdown",
   "metadata": {
    "id": "Ff83Sr0HqtMm"
   },
   "source": [
    "14"
   ]
  },
  {
   "cell_type": "code",
   "execution_count": 7,
   "metadata": {
    "colab": {
     "base_uri": "https://localhost:8080/"
    },
    "executionInfo": {
     "elapsed": 3213,
     "status": "ok",
     "timestamp": 1757995096723,
     "user": {
      "displayName": "25021887 Phạm Thiên Minh",
      "userId": "08516294802804842978"
     },
     "user_tz": -420
    },
    "id": "MUuJ4rwAqt_e",
    "outputId": "dff732c1-8f84-432b-ab3b-abdbfa34e2c0"
   },
   "outputs": [
    {
     "name": "stdout",
     "output_type": "stream",
     "text": [
      "5\n",
      "10\n",
      "10\n",
      "5\n"
     ]
    }
   ],
   "source": [
    "a=int(input())\n",
    "b=int(input())\n",
    "a=a+b\n",
    "b=a-b\n",
    "a-=b\n",
    "print(a)\n",
    "print(b)"
   ]
  },
  {
   "cell_type": "markdown",
   "metadata": {
    "id": "Cd38elQsqboT"
   },
   "source": [
    "15"
   ]
  },
  {
   "cell_type": "code",
   "execution_count": null,
   "metadata": {
    "id": "VIslsthuqedD"
   },
   "outputs": [],
   "source": [
    "n = int(input(\"Nhap n: \"))\n",
    "\n",
    "    star_number = 6 * n * (n - 1) + 1\n",
    "    print(f\"So sao thu {n} la: {star_number}\")"
   ]
  },
  {
   "cell_type": "markdown",
   "metadata": {
    "id": "-O2ocs2EqOtL"
   },
   "source": [
    "16"
   ]
  },
  {
   "cell_type": "code",
   "execution_count": 5,
   "metadata": {
    "colab": {
     "base_uri": "https://localhost:8080/"
    },
    "executionInfo": {
     "elapsed": 15,
     "status": "ok",
     "timestamp": 1757994921723,
     "user": {
      "displayName": "25021887 Phạm Thiên Minh",
      "userId": "08516294802804842978"
     },
     "user_tz": -420
    },
    "id": "0NaBHe-2qU-S",
    "outputId": "358bca43-cf26-44bf-90c4-892ed0565fcb"
   },
   "outputs": [
    {
     "name": "stdout",
     "output_type": "stream",
     "text": [
      "Spring\n",
      "Summer\n",
      "Autumn\n",
      "Winter\n"
     ]
    }
   ],
   "source": [
    "print(\"Spring\\nSummer\\nAutumn\\nWinter\")"
   ]
  },
  {
   "cell_type": "markdown",
   "metadata": {
    "id": "N9soA1Vhpxfr"
   },
   "source": [
    "17"
   ]
  },
  {
   "cell_type": "code",
   "execution_count": 4,
   "metadata": {
    "colab": {
     "base_uri": "https://localhost:8080/"
    },
    "executionInfo": {
     "elapsed": 16,
     "status": "ok",
     "timestamp": 1757994862091,
     "user": {
      "displayName": "25021887 Phạm Thiên Minh",
      "userId": "08516294802804842978"
     },
     "user_tz": -420
    },
    "id": "pOqQM2i-p3xY",
    "outputId": "b4eb23f8-3143-4a5a-b361-56685f5bc418"
   },
   "outputs": [
    {
     "name": "stdout",
     "output_type": "stream",
     "text": [
      "*\n",
      "***\n",
      "*****\n"
     ]
    }
   ],
   "source": [
    "for i in range (3):\n",
    "   print(\"*\"*(2*i+1))"
   ]
  },
  {
   "cell_type": "markdown",
   "metadata": {
    "id": "VB5FTAdVmMHc"
   },
   "source": [
    "18"
   ]
  },
  {
   "cell_type": "code",
   "execution_count": null,
   "metadata": {
    "id": "F_39hPYJpXwy"
   },
   "outputs": [],
   "source": [
    "print(\"### # #   ### ###\")\n",
    "print(\" #  #  #   #   #\")\n",
    "print(\" #  #   #  #   #\")\n",
    "print(\" #  #  #   #   #\")\n",
    "print(\" #  # #    #   #\")"
   ]
  },
  {
   "cell_type": "markdown",
   "metadata": {
    "id": "bUYQl7cVo5fU"
   },
   "source": [
    "19"
   ]
  },
  {
   "cell_type": "code",
   "execution_count": 3,
   "metadata": {
    "colab": {
     "base_uri": "https://localhost:8080/"
    },
    "executionInfo": {
     "elapsed": 11,
     "status": "ok",
     "timestamp": 1757994583741,
     "user": {
      "displayName": "25021887 Phạm Thiên Minh",
      "userId": "08516294802804842978"
     },
     "user_tz": -420
    },
    "id": "byh-UzQ5o7_a",
    "outputId": "beab7bd9-77f3-47cb-d340-9bf4ade04a0b"
   },
   "outputs": [
    {
     "name": "stdout",
     "output_type": "stream",
     "text": [
      "Monday\n",
      "Tuesday\n",
      "Wednesday\n",
      "Thursday\n",
      "Friday\n",
      "\n"
     ]
    }
   ],
   "source": [
    "print(\"Monday\")\n",
    "print(\"Tuesday\")\n",
    "print(\"Wednesday\")\n",
    "print(\"Thursday\")\n",
    "print(\"Friday\")\n",
    "print(\"Saturday\")\n",
    "print(\"Sunday\")"
   ]
  },
  {
   "cell_type": "markdown",
   "metadata": {
    "id": "Z6wV2ifWpQX_"
   },
   "source": [
    "20"
   ]
  },
  {
   "cell_type": "code",
   "execution_count": null,
   "metadata": {
    "id": "l2K7gPcapSSu"
   },
   "outputs": [],
   "source": [
    "print(\"January\")\n",
    "print(\"February\")\n",
    "print(\"March\")\n",
    "print(\"April\")\n",
    "print(\"May\")\n",
    "print(\"June\")\n",
    "print(\"July\")\n",
    "print(\"August\")\n",
    "print(\"September\")\n",
    "print(\"October\")\n",
    "print(\"November\")\n",
    "print(\"December\")"
   ]
  },
  {
   "cell_type": "markdown",
   "metadata": {
    "id": "BoI82ODcnRcs"
   },
   "source": [
    "21"
   ]
  },
  {
   "cell_type": "code",
   "execution_count": 2,
   "metadata": {
    "colab": {
     "base_uri": "https://localhost:8080/"
    },
    "executionInfo": {
     "elapsed": 7,
     "status": "ok",
     "timestamp": 1757994518510,
     "user": {
      "displayName": "25021887 Phạm Thiên Minh",
      "userId": "08516294802804842978"
     },
     "user_tz": -420
    },
    "id": "-PJUJD2PkRP8",
    "outputId": "109a4be3-6e67-46a1-9d3a-76f5bfa67d63"
   },
   "outputs": [
    {
     "name": "stdout",
     "output_type": "stream",
     "text": [
      "Hello, world\n",
      "Hello, world\n",
      "Hello, world\n",
      "Hello, world\n",
      "Hello, world\n",
      "Hello, world\n",
      "Hello, world\n",
      "Hello, world\n",
      "Hello, world\n",
      "Hello, world\n"
     ]
    }
   ],
   "source": [
    "for i in range(10):\n",
    "  print(\"Hello, world\")"
   ]
  }
 ],
 "metadata": {
  "colab": {
   "authorship_tag": "ABX9TyMzx/nXp1xq8eBSx2R3xyV4",
   "provenance": []
  },
  "kernelspec": {
   "display_name": ".venv",
   "language": "python",
   "name": "python3"
  },
  "language_info": {
   "codemirror_mode": {
    "name": "ipython",
    "version": 3
   },
   "file_extension": ".py",
   "mimetype": "text/x-python",
   "name": "python",
   "nbconvert_exporter": "python",
   "pygments_lexer": "ipython3",
   "version": "3.10.6"
  }
 },
 "nbformat": 4,
 "nbformat_minor": 0
}
