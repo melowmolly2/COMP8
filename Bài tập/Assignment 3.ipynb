{
  "cells": [
    {
      "cell_type": "markdown",
      "metadata": {},
      "source": [
        "Assignment 3"
      ]
    },
    {
      "cell_type": "markdown",
      "metadata": {
        "id": "96zMblgD4kvO"
      },
      "source": [
        "1"
      ]
    },
    {
      "cell_type": "code",
      "execution_count": 1,
      "metadata": {
        "colab": {
          "base_uri": "https://localhost:8080/"
        },
        "id": "d1i6CNBb4h_Q",
        "outputId": "c990c9bd-bf6e-424d-97ab-4a31961472b9"
      },
      "outputs": [
        {
          "name": "stdout",
          "output_type": "stream",
          "text": [
            "765\n"
          ]
        }
      ],
      "source": [
        "n=int(input())\n",
        "result=0\n",
        "\n",
        "while n>0:\n",
        "  result*=10\n",
        "  result+=n%10\n",
        "  n//=10\n",
        "\n",
        "print(result)"
      ]
    },
    {
      "cell_type": "markdown",
      "metadata": {
        "id": "5M_ax35j6F5B"
      },
      "source": [
        "2"
      ]
    },
    {
      "cell_type": "code",
      "execution_count": null,
      "metadata": {
        "colab": {
          "base_uri": "https://localhost:8080/"
        },
        "id": "oSKd7_j26KaX",
        "outputId": "d45afcec-a283-4100-d0d3-314d27683cba"
      },
      "outputs": [
        {
          "name": "stdout",
          "output_type": "stream",
          "text": [
            "1 3\n",
            "3\n",
            "1\n"
          ]
        }
      ],
      "source": [
        "a,b=map(int,input().split())\n",
        "a=b^a\n",
        "b=a^b\n",
        "a=b^a\n",
        "print(a)\n",
        "print(b)"
      ]
    },
    {
      "cell_type": "markdown",
      "metadata": {
        "id": "f2VayVnm8qjA"
      },
      "source": [
        "3"
      ]
    },
    {
      "cell_type": "code",
      "execution_count": null,
      "metadata": {
        "colab": {
          "base_uri": "https://localhost:8080/"
        },
        "id": "ev4n97gT6Fhq",
        "outputId": "ff4d14c2-d116-45cf-ead6-60b5317f1310"
      },
      "outputs": [
        {
          "name": "stdout",
          "output_type": "stream",
          "text": [
            "8\n",
            "True\n"
          ]
        }
      ],
      "source": [
        "n=int(input())\n",
        "print(n&(n-1)==0)"
      ]
    },
    {
      "cell_type": "markdown",
      "metadata": {
        "id": "EyUzCNAN-OF3"
      },
      "source": [
        "4"
      ]
    },
    {
      "cell_type": "code",
      "execution_count": 2,
      "metadata": {
        "colab": {
          "base_uri": "https://localhost:8080/"
        },
        "id": "8cwSHZz5-PT1",
        "outputId": "5b9f2d24-bc47-49e3-d1f0-c6c7d98e316c"
      },
      "outputs": [
        {
          "name": "stdout",
          "output_type": "stream",
          "text": [
            "0\n"
          ]
        }
      ],
      "source": [
        "a,b=map(int,input().split())\n",
        "print(a//b)"
      ]
    },
    {
      "cell_type": "markdown",
      "metadata": {
        "id": "aK1rGKCbANbD"
      },
      "source": [
        "5"
      ]
    },
    {
      "cell_type": "code",
      "execution_count": null,
      "metadata": {
        "colab": {
          "base_uri": "https://localhost:8080/"
        },
        "id": "YemsB9eWACdc",
        "outputId": "c272ba5f-c3b3-4483-a540-97c77a172861"
      },
      "outputs": [
        {
          "name": "stdout",
          "output_type": "stream",
          "text": [
            "2 3\n",
            "1\n"
          ]
        }
      ],
      "source": [
        "import math;\n",
        "\n",
        "a,b=map(int,input().split())\n",
        "print(math.ceil(a/b));"
      ]
    },
    {
      "cell_type": "markdown",
      "metadata": {
        "id": "o0KQCSzX_-1c"
      },
      "source": [
        "6"
      ]
    },
    {
      "cell_type": "code",
      "execution_count": null,
      "metadata": {
        "colab": {
          "base_uri": "https://localhost:8080/"
        },
        "id": "rQ1IZfLAATw-",
        "outputId": "7020a18b-d2b0-48e2-e260-12e5eae15176"
      },
      "outputs": [
        {
          "name": "stdout",
          "output_type": "stream",
          "text": [
            "2\n",
            "Even\n"
          ]
        }
      ],
      "source": [
        "n=int(input())\n",
        "print(\"Even\" if n%2==0 else \"Odd\")"
      ]
    },
    {
      "cell_type": "markdown",
      "metadata": {
        "id": "0hdpQkpmCM9D"
      },
      "source": [
        "7"
      ]
    },
    {
      "cell_type": "code",
      "execution_count": null,
      "metadata": {
        "colab": {
          "base_uri": "https://localhost:8080/"
        },
        "id": "BuNzQm2RCNgo",
        "outputId": "2b11f162-5fa4-4a4b-f773-ab351f11f8f6"
      },
      "outputs": [
        {
          "name": "stdout",
          "output_type": "stream",
          "text": [
            "5 5\n",
            "No\n"
          ]
        }
      ],
      "source": [
        "a,b=map(int,input().split())\n",
        "print(\"Yes\" if a<0 and b<0 else \"No\")"
      ]
    },
    {
      "cell_type": "markdown",
      "metadata": {
        "id": "TD-qeagvDUFG"
      },
      "source": [
        "8"
      ]
    },
    {
      "cell_type": "code",
      "execution_count": 3,
      "metadata": {
        "colab": {
          "base_uri": "https://localhost:8080/"
        },
        "id": "eXT_xLeZDU2R",
        "outputId": "218ef002-e801-46b5-e875-86a7e8654250"
      },
      "outputs": [
        {
          "name": "stdout",
          "output_type": "stream",
          "text": [
            "No\n"
          ]
        }
      ],
      "source": [
        "a, b = input().split()\n",
        "print (\"Yes\" if len(a)>len(b) else \"No\")"
      ]
    },
    {
      "cell_type": "markdown",
      "metadata": {
        "id": "B4kdLkC1FIRS"
      },
      "source": [
        "\n",
        "9\n",
        "\n"
      ]
    },
    {
      "cell_type": "code",
      "execution_count": 6,
      "metadata": {
        "id": "9E3FYD76FIIF"
      },
      "outputs": [
        {
          "name": "stdout",
          "output_type": "stream",
          "text": [
            "Yes\n"
          ]
        }
      ],
      "source": [
        "a,b,c=map(int,input().split())\n",
        "print(\"Yes\" if a+b>c and b+c>a and c+a>b else \"No\")"
      ]
    },
    {
      "cell_type": "markdown",
      "metadata": {
        "id": "BBX_ThzuGqLP"
      },
      "source": [
        "10"
      ]
    },
    {
      "cell_type": "code",
      "execution_count": null,
      "metadata": {
        "colab": {
          "base_uri": "https://localhost:8080/"
        },
        "id": "MSdWtvMRGq4R",
        "outputId": "6857369f-93ff-45f6-832f-b8c11959e403"
      },
      "outputs": [
        {
          "name": "stdout",
          "output_type": "stream",
          "text": [
            "2 3 4 1\n",
            "4\n"
          ]
        }
      ],
      "source": [
        "a, b, c, d = map(int, input().split())\n",
        "res = a\n",
        "if b > res:\n",
        "  res = b\n",
        "if c > res:\n",
        "  res = c\n",
        "if d > res:\n",
        "  res = d\n",
        "print(res)"
      ]
    },
    {
      "cell_type": "markdown",
      "metadata": {
        "id": "Pz-REdGiMIVq"
      },
      "source": [
        "11"
      ]
    },
    {
      "cell_type": "code",
      "execution_count": 10,
      "metadata": {
        "id": "BMN0rYmWMJRn"
      },
      "outputs": [
        {
          "name": "stdout",
          "output_type": "stream",
          "text": [
            "Tam giac thuong\n"
          ]
        }
      ],
      "source": [
        "a,b,c=map(int,input().split())\n",
        "if a+b<=c or b+c<=a or c+a<=b:\n",
        "\tprint(\"Khong phai tam giac\")\n",
        "elif a==b and b==c:\n",
        "\tprint(\"Tam giac deu\")\n",
        "elif a==b or b==c or c==a: \n",
        "\tprint(\"Tam giac can\")\n",
        "else: print(\"Tam giac thuong\") "
      ]
    },
    {
      "cell_type": "markdown",
      "metadata": {
        "id": "WhzynnJ0ML8v"
      },
      "source": [
        "12"
      ]
    },
    {
      "cell_type": "code",
      "execution_count": 36,
      "metadata": {},
      "outputs": [
        {
          "name": "stdout",
          "output_type": "stream",
          "text": [
            "Yes\n"
          ]
        }
      ],
      "source": [
        "year=int(input())\n",
        "print(\"Yes\" if (year%4==0)-(year%100==0)+(year%400==0)==1 else \"No\")"
      ]
    },
    {
      "cell_type": "markdown",
      "metadata": {
        "id": "WCByNJ5XMN1j"
      },
      "source": [
        "13"
      ]
    },
    {
      "cell_type": "code",
      "execution_count": 42,
      "metadata": {},
      "outputs": [
        {
          "name": "stdout",
          "output_type": "stream",
          "text": [
            "175000\n"
          ]
        }
      ],
      "source": [
        "elec=int(input())\n",
        "result=(elec>100)*(elec-100)*3000+(elec>50)*min(elec-50,50)*2000+min(elec,50)*1500\n",
        "print(result)"
      ]
    },
    {
      "cell_type": "markdown",
      "metadata": {},
      "source": [
        "14"
      ]
    },
    {
      "cell_type": "code",
      "execution_count": 50,
      "metadata": {},
      "outputs": [
        {
          "name": "stdout",
          "output_type": "stream",
          "text": [
            "-430.87\n"
          ]
        }
      ],
      "source": [
        "a,b=map(float,input().split())\n",
        "if a==0:\n",
        "\tif b==0:\n",
        "\t\tprint(\"Vo so nghiem\")\n",
        "\telse: print(\"Vo nghiem\")\n",
        "else: \n",
        "\tprint(round(-b/a,2))"
      ]
    },
    {
      "cell_type": "markdown",
      "metadata": {},
      "source": [
        "15"
      ]
    },
    {
      "cell_type": "code",
      "execution_count": 55,
      "metadata": {},
      "outputs": [
        {
          "name": "stdout",
          "output_type": "stream",
          "text": [
            "Gioi\n"
          ]
        }
      ],
      "source": [
        "a=float(input())\n",
        "\n",
        "if a>=8:\n",
        "\tprint(\"Gioi\")\n",
        "elif a>=6.5:\n",
        "\tprint(\"Kha\")\n",
        "elif a>=5:\n",
        "\tprint(\"Trung binh\")\n",
        "else: print(\"Yeu\") "
      ]
    },
    {
      "cell_type": "markdown",
      "metadata": {},
      "source": [
        "16"
      ]
    },
    {
      "cell_type": "code",
      "execution_count": 10,
      "metadata": {},
      "outputs": [
        {
          "name": "stdout",
          "output_type": "stream",
          "text": [
            "8 7 7\n"
          ]
        }
      ],
      "source": [
        "a=float(input())\n",
        "if a>=0: \n",
        "\tprint(int(a)+(int(a)!=a),int(a),int(a)+(a-int(a)>=0.5))\n",
        "else:\n",
        "\tprint(int(a),int(a)-(int(a)!=a),int(a)-(int(a)-a>=0.5))"
      ]
    },
    {
      "cell_type": "markdown",
      "metadata": {},
      "source": [
        "17"
      ]
    },
    {
      "cell_type": "code",
      "execution_count": null,
      "metadata": {},
      "outputs": [],
      "source": [
        "a,b,c=map(int,input().split())\n",
        "if a+b<=c or b+c<=a or c+a<=b:\n",
        "\tprint(\"Khong phai tam giac\")\n",
        "elif a==b and b==c:\n",
        "\tprint(\"Tam giac deu\")\n",
        "elif a==b or b==c or c==a: \n",
        "\tprint(\"Tam giac can\")\n",
        "else: print(\"Tam giac thuong\") "
      ]
    },
    {
      "cell_type": "markdown",
      "metadata": {},
      "source": [
        "sibidi sibidi"
      ]
    }
  ],
  "metadata": {
    "colab": {
      "provenance": []
    },
    "kernelspec": {
      "display_name": ".venv",
      "language": "python",
      "name": "python3"
    },
    "language_info": {
      "codemirror_mode": {
        "name": "ipython",
        "version": 3
      },
      "file_extension": ".py",
      "mimetype": "text/x-python",
      "name": "python",
      "nbconvert_exporter": "python",
      "pygments_lexer": "ipython3",
      "version": "3.10.6"
    }
  },
  "nbformat": 4,
  "nbformat_minor": 0
}
