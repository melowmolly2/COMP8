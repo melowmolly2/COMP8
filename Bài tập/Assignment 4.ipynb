{
 "cells": [
  {
   "cell_type": "markdown",
   "id": "b41fa2f7",
   "metadata": {},
   "source": [
    "W4A1"
   ]
  },
  {
   "cell_type": "code",
   "execution_count": 3,
   "id": "682c0cee",
   "metadata": {},
   "outputs": [
    {
     "name": "stdout",
     "output_type": "stream",
     "text": [
      "1275\n"
     ]
    }
   ],
   "source": [
    "n=int(input())\n",
    "sum=0\n",
    "for i in range(n+1):\n",
    "\tsum+=i\n",
    "print(sum)"
   ]
  },
  {
   "cell_type": "markdown",
   "id": "10c25371",
   "metadata": {},
   "source": [
    "W4A2"
   ]
  },
  {
   "cell_type": "code",
   "execution_count": 8,
   "id": "64261dac",
   "metadata": {},
   "outputs": [
    {
     "name": "stdout",
     "output_type": "stream",
     "text": [
      "False\n",
      "False\n",
      "True\n"
     ]
    }
   ],
   "source": [
    "while True:\n",
    "\tn = int(input())\n",
    "\tcheck=True\n",
    "\tif n < 2:\n",
    "\t\tprint(\"False\")\n",
    "\t\tcontinue\n",
    "\n",
    "\tfor i in range(2, n):\n",
    "\t\tif(n%i==0):\n",
    "\t\t\tprint(\"False\")\n",
    "\t\t\tcheck=False\n",
    "\t\t\tbreak\n",
    "\tif check:\n",
    "\t\tprint(\"True\")\n",
    "\t\tbreak\n"
   ]
  },
  {
   "cell_type": "markdown",
   "id": "a0993c70",
   "metadata": {},
   "source": [
    "W4A3"
   ]
  },
  {
   "cell_type": "code",
   "execution_count": 18,
   "id": "9515ac39",
   "metadata": {},
   "outputs": [
    {
     "name": "stdout",
     "output_type": "stream",
     "text": [
      "40320\n"
     ]
    }
   ],
   "source": [
    "factorial=1\n",
    "n=int(input())\n",
    "for i in range(1,n+1):\n",
    "\tfactorial*=i\n",
    "\n",
    "print(factorial)"
   ]
  },
  {
   "cell_type": "markdown",
   "id": "56bac5a5",
   "metadata": {},
   "source": [
    "W4A4"
   ]
  },
  {
   "cell_type": "code",
   "execution_count": 29,
   "id": "e214e0ff",
   "metadata": {},
   "outputs": [
    {
     "name": "stdout",
     "output_type": "stream",
     "text": [
      "6\n"
     ]
    }
   ],
   "source": [
    "n=int(input())\n",
    "if n<0:\n",
    "\tn=-n\n",
    "\n",
    "result=0\n",
    "while n>0:\n",
    "\tn//=10\n",
    "\tresult+=1\n",
    "\n",
    "print(result)"
   ]
  },
  {
   "cell_type": "markdown",
   "id": "db6fa8f7",
   "metadata": {},
   "source": [
    "W4A5"
   ]
  },
  {
   "cell_type": "code",
   "execution_count": null,
   "id": "cfdc4fed",
   "metadata": {},
   "outputs": [
    {
     "name": "stdout",
     "output_type": "stream",
     "text": [
      "It's a joke!\n"
     ]
    }
   ],
   "source": [
    "n=int(input())\n",
    "a=list(map(int,input().split()))\n",
    "check=False\n",
    "for i in range(n):\n",
    "\tif a[i]==42:\n",
    "\t\tcheck=True\n",
    "\n",
    "print(\"I've found the meaning of life\" if check else \"It's a joke\")"
   ]
  },
  {
   "cell_type": "markdown",
   "id": "679a38fe",
   "metadata": {},
   "source": [
    "W4A6"
   ]
  },
  {
   "cell_type": "code",
   "execution_count": null,
   "id": "6b6a4b95",
   "metadata": {},
   "outputs": [],
   "source": []
  }
 ],
 "metadata": {
  "kernelspec": {
   "display_name": ".venv",
   "language": "python",
   "name": "python3"
  },
  "language_info": {
   "codemirror_mode": {
    "name": "ipython",
    "version": 3
   },
   "file_extension": ".py",
   "mimetype": "text/x-python",
   "name": "python",
   "nbconvert_exporter": "python",
   "pygments_lexer": "ipython3",
   "version": "3.10.6"
  }
 },
 "nbformat": 4,
 "nbformat_minor": 5
}
