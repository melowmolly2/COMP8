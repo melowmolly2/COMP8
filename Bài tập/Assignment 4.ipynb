{
 "cells": [
  {
   "cell_type": "markdown",
   "id": "b41fa2f7",
   "metadata": {},
   "source": [
    "W4A1"
   ]
  },
  {
   "cell_type": "code",
   "execution_count": 3,
   "id": "682c0cee",
   "metadata": {},
   "outputs": [
    {
     "name": "stdout",
     "output_type": "stream",
     "text": [
      "1275\n"
     ]
    }
   ],
   "source": [
    "n=int(input())\n",
    "sum=0\n",
    "for i in range(n+1):\n",
    "\tsum+=i\n",
    "print(sum)"
   ]
  },
  {
   "cell_type": "markdown",
   "id": "10c25371",
   "metadata": {},
   "source": [
    "W4A2"
   ]
  },
  {
   "cell_type": "code",
   "execution_count": 8,
   "id": "64261dac",
   "metadata": {},
   "outputs": [
    {
     "name": "stdout",
     "output_type": "stream",
     "text": [
      "False\n",
      "False\n",
      "True\n"
     ]
    }
   ],
   "source": [
    "while True:\n",
    "\tn = int(input())\n",
    "\tcheck=True\n",
    "\tif n < 2:\n",
    "\t\tprint(\"False\")\n",
    "\t\tcontinue\n",
    "\n",
    "\tfor i in range(2, n):\n",
    "\t\tif(n%i==0):\n",
    "\t\t\tprint(\"False\")\n",
    "\t\t\tcheck=False\n",
    "\t\t\tbreak\n",
    "\tif check:\n",
    "\t\tprint(\"True\")\n",
    "\t\tbreak\n"
   ]
  },
  {
   "cell_type": "markdown",
   "id": "a0993c70",
   "metadata": {},
   "source": [
    "W4A3"
   ]
  },
  {
   "cell_type": "code",
   "execution_count": 18,
   "id": "9515ac39",
   "metadata": {},
   "outputs": [
    {
     "name": "stdout",
     "output_type": "stream",
     "text": [
      "40320\n"
     ]
    }
   ],
   "source": [
    "factorial=1\n",
    "n=int(input())\n",
    "for i in range(1,n+1):\n",
    "\tfactorial*=i\n",
    "\n",
    "print(factorial)"
   ]
  },
  {
   "cell_type": "markdown",
   "id": "56bac5a5",
   "metadata": {},
   "source": [
    "W4A4"
   ]
  },
  {
   "cell_type": "code",
   "execution_count": 29,
   "id": "e214e0ff",
   "metadata": {},
   "outputs": [
    {
     "name": "stdout",
     "output_type": "stream",
     "text": [
      "6\n"
     ]
    }
   ],
   "source": [
    "n=int(input())\n",
    "if n<0:\n",
    "\tn=-n\n",
    "\n",
    "result=0\n",
    "while n>0:\n",
    "\tn//=10\n",
    "\tresult+=1\n",
    "\n",
    "print(result)"
   ]
  },
  {
   "cell_type": "markdown",
   "id": "db6fa8f7",
   "metadata": {},
   "source": [
    "W4A5"
   ]
  },
  {
   "cell_type": "code",
   "execution_count": null,
   "id": "cfdc4fed",
   "metadata": {},
   "outputs": [
    {
     "name": "stdout",
     "output_type": "stream",
     "text": [
      "It's a joke!\n"
     ]
    }
   ],
   "source": [
    "n=int(input())\n",
    "a=list(map(int,input().split()))\n",
    "check=False\n",
    "for i in range(n):\n",
    "\tif a[i]==42:\n",
    "\t\tcheck=True\n",
    "\n",
    "print(\"I've found the meaning of life\" if check else \"It's a joke\")"
   ]
  },
  {
   "cell_type": "markdown",
   "id": "679a38fe",
   "metadata": {},
   "source": [
    "W4A6"
   ]
  },
  {
   "cell_type": "code",
   "execution_count": 7,
   "id": "6b6a4b95",
   "metadata": {},
   "outputs": [
    {
     "name": "stdout",
     "output_type": "stream",
     "text": [
      "533\n"
     ]
    }
   ],
   "source": [
    "a,b=map(int,input().split())\n",
    "sum=0\n",
    "for i in range(a,b+1):\n",
    "\tif i<2:\n",
    "\t\tcontinue\n",
    "\tcheck=True\n",
    "\tfor j in range(2,i):\n",
    "\t\tif i%j==0:\n",
    "\t\t\tcheck=False\n",
    "\t\t\tbreak\n",
    "\tif check:\n",
    "\t\tsum+=i;\n",
    "\n",
    "print(sum)"
   ]
  },
  {
   "cell_type": "markdown",
   "id": "c590446c",
   "metadata": {},
   "source": [
    "W4A7"
   ]
  },
  {
   "cell_type": "code",
   "execution_count": 21,
   "id": "c989722c",
   "metadata": {},
   "outputs": [
    {
     "name": "stdout",
     "output_type": "stream",
     "text": [
      "99991\n"
     ]
    }
   ],
   "source": [
    "n=int(input())\n",
    "for i in range(2,n+1):\n",
    "\twhile n%i==0:\n",
    "\t\tif n==i: \n",
    "\t\t\tprint(i)\n",
    "\t\tn/=i\n"
   ]
  },
  {
   "cell_type": "markdown",
   "id": "162e2403",
   "metadata": {},
   "source": [
    "W4A8"
   ]
  },
  {
   "cell_type": "code",
   "execution_count": 28,
   "id": "f2a29268",
   "metadata": {},
   "outputs": [
    {
     "name": "stdout",
     "output_type": "stream",
     "text": [
      "4 9339\n"
     ]
    }
   ],
   "source": [
    "n=int(input())\n",
    "steps=0\n",
    "while True:\n",
    "\tm=0\n",
    "\tp=n\n",
    "\twhile p>0:\n",
    "\t\tm*=10\n",
    "\t\tm+=p%10\n",
    "\t\tp//=10\n",
    "\tif m==n:\n",
    "\t\tprint(steps,n)\n",
    "\t\tbreak\n",
    "\tn+=m\n",
    "\tsteps+=1"
   ]
  },
  {
   "cell_type": "markdown",
   "id": "cd1ea495",
   "metadata": {},
   "source": [
    "W4A9"
   ]
  },
  {
   "cell_type": "markdown",
   "id": "00d1c27a",
   "metadata": {},
   "source": [
    "W4A10"
   ]
  },
  {
   "cell_type": "code",
   "execution_count": 40,
   "id": "a73482ce",
   "metadata": {},
   "outputs": [
    {
     "name": "stdout",
     "output_type": "stream",
     "text": [
      "171 125\n"
     ]
    }
   ],
   "source": [
    "n=int(input())\n",
    "res=0\n",
    "number=n\n",
    "for i in range (n+1,1,-1):\n",
    "\ttemp=i\n",
    "\tcount=1\n",
    "\twhile temp!=1:\n",
    "\t\tif temp%2==0:\n",
    "\t\t\ttemp/=2\n",
    "\t\t\tcount+=1\n",
    "\t\telse: \n",
    "\t\t\ttemp*=3\n",
    "\t\t\ttemp+=1\n",
    "\t\t\tcount+=1\n",
    "\tif count>=res:\n",
    "\t\tres=count\n",
    "\t\tnumber=i\n",
    "\n",
    "print(number,res)\n",
    "\n"
   ]
  },
  {
   "cell_type": "markdown",
   "id": "4e36879d",
   "metadata": {},
   "source": [
    "W4A11"
   ]
  },
  {
   "cell_type": "code",
   "execution_count": 70,
   "id": "46017a01",
   "metadata": {},
   "outputs": [
    {
     "name": "stdout",
     "output_type": "stream",
     "text": [
      "12\n"
     ]
    }
   ],
   "source": [
    "n=int(input())\n",
    "res=1\n",
    "for i in range(2,n+1):\n",
    "\tcount=1\n",
    "\twhile n%i==0:\n",
    "\t\tcount+=1\n",
    "\t\tn//=i\n",
    "\tif i==2:\n",
    "\t\tres*=(count-1)\n",
    "\telse:\n",
    "\t\tres*=count\n",
    "\n",
    "print(res)"
   ]
  },
  {
   "cell_type": "markdown",
   "id": "46745028",
   "metadata": {},
   "source": [
    "W4A12"
   ]
  },
  {
   "cell_type": "code",
   "execution_count": 80,
   "id": "86e0be95",
   "metadata": {},
   "outputs": [
    {
     "name": "stdout",
     "output_type": "stream",
     "text": [
      "10902\n"
     ]
    }
   ],
   "source": [
    "x,n=map(int,input().split())\n",
    "res=int(x*(1.007)**n)\n",
    "print(res)"
   ]
  },
  {
   "cell_type": "markdown",
   "id": "a2f1de9c",
   "metadata": {},
   "source": [
    "W4A13"
   ]
  },
  {
   "cell_type": "code",
   "execution_count": null,
   "id": "43104c4c",
   "metadata": {},
   "outputs": [],
   "source": [
    "a,b=int(input())\n",
    "tempa=a,tempb=b\n",
    "res1=0,res2=0\n"
   ]
  },
  {
   "cell_type": "markdown",
   "id": "88c9d8a9",
   "metadata": {},
   "source": [
    "W4A14"
   ]
  },
  {
   "cell_type": "code",
   "execution_count": 96,
   "id": "1cd03016",
   "metadata": {},
   "outputs": [
    {
     "name": "stdout",
     "output_type": "stream",
     "text": [
      "4\n"
     ]
    }
   ],
   "source": [
    "a,b=map(int,input().split())\n",
    "while True:\n",
    "\tif b!=0:\n",
    "\t\tif a%b==0:\n",
    "\t\t\tprint(b)\n",
    "\t\t\tbreak\n",
    "\tif a!=0:\t\n",
    "\t\tif b%a==0:\n",
    "\t\t\tprint(a)\n",
    "\t\t\tbreak\n",
    "\ta%=b\n",
    "\tb%=a"
   ]
  },
  {
   "cell_type": "markdown",
   "id": "39fd64d5",
   "metadata": {},
   "source": [
    "W4A15"
   ]
  },
  {
   "cell_type": "code",
   "execution_count": 103,
   "id": "29432501",
   "metadata": {},
   "outputs": [
    {
     "name": "stdout",
     "output_type": "stream",
     "text": [
      "119 1\n"
     ]
    }
   ],
   "source": [
    "ab,twoafourb=map(int,input().split())\n",
    "if twoafourb%2!=0 or twoafourb<ab*2:\n",
    "\tprint(\"Invalid\")\n",
    "else:\n",
    "\tb=int(twoafourb/2-ab)\n",
    "\ta=ab-b\n",
    "\tprint(a,b)"
   ]
  },
  {
   "cell_type": "markdown",
   "id": "374b51fc",
   "metadata": {},
   "source": [
    "W4A16"
   ]
  },
  {
   "cell_type": "code",
   "execution_count": 104,
   "id": "ad761203",
   "metadata": {},
   "outputs": [
    {
     "name": "stdout",
     "output_type": "stream",
     "text": [
      "6\n",
      "12\n",
      "18\n",
      "24\n",
      "30\n",
      "36\n",
      "42\n",
      "48\n",
      "54\n",
      "60\n",
      "66\n",
      "72\n",
      "78\n",
      "84\n",
      "90\n",
      "96\n"
     ]
    }
   ],
   "source": [
    "for i in range (6,100,6):\n",
    "\tprint(i)"
   ]
  },
  {
   "cell_type": "markdown",
   "id": "96c925ea",
   "metadata": {},
   "source": [
    "W4A17"
   ]
  },
  {
   "cell_type": "code",
   "execution_count": 112,
   "id": "a94a3f8e",
   "metadata": {},
   "outputs": [
    {
     "name": "stdout",
     "output_type": "stream",
     "text": [
      "c\n"
     ]
    }
   ],
   "source": [
    "print(chr(ord('a')+int(input())-1))"
   ]
  },
  {
   "cell_type": "markdown",
   "id": "9a1ac49a",
   "metadata": {},
   "source": [
    "W4A18"
   ]
  },
  {
   "cell_type": "code",
   "execution_count": 114,
   "id": "0dfabcf2",
   "metadata": {},
   "outputs": [
    {
     "name": "stdout",
     "output_type": "stream",
     "text": [
      "1\n",
      "7\n"
     ]
    }
   ],
   "source": [
    "a,b=map(int,input().split())\n",
    "for i in range(1,min(a,b)+1):\n",
    "\tif a%i==0 and b%i==0:\n",
    "\t\tprint(i)"
   ]
  },
  {
   "cell_type": "markdown",
   "id": "f7d83fa8",
   "metadata": {},
   "source": [
    "W4A19"
   ]
  },
  {
   "cell_type": "code",
   "execution_count": 117,
   "id": "48a0571c",
   "metadata": {},
   "outputs": [
    {
     "name": "stdout",
     "output_type": "stream",
     "text": [
      "2\n"
     ]
    }
   ],
   "source": [
    "n=int(input())\n",
    "for i in range(2,n+1,2):\n",
    "\tprint(i)"
   ]
  },
  {
   "cell_type": "markdown",
   "id": "12cd5031",
   "metadata": {},
   "source": [
    "W4A20"
   ]
  },
  {
   "cell_type": "code",
   "execution_count": 120,
   "id": "4cfdf0a6",
   "metadata": {},
   "outputs": [
    {
     "name": "stdout",
     "output_type": "stream",
     "text": [
      "Yes\n"
     ]
    }
   ],
   "source": [
    "n=int(input())\n",
    "while n%2==0:\n",
    "\tn/=2\n",
    "if n==1:\n",
    "\tprint(\"Yes\")\n",
    "else: \n",
    "\tprint(\"No\")\n",
    "\t"
   ]
  },
  {
   "cell_type": "markdown",
   "id": "96ec7167",
   "metadata": {},
   "source": [
    "W4A21"
   ]
  },
  {
   "cell_type": "code",
   "execution_count": 123,
   "id": "58ebbe28",
   "metadata": {},
   "outputs": [
    {
     "name": "stdout",
     "output_type": "stream",
     "text": [
      "10\n"
     ]
    }
   ],
   "source": [
    "n=int(input())\n",
    "if n<0:\n",
    "\tn=-n\n",
    "\n",
    "result=0\n",
    "while n>0:\n",
    "\tresult+=n%10\n",
    "\tn//=10\n",
    "\n",
    "print(result)"
   ]
  },
  {
   "cell_type": "markdown",
   "id": "d86587ba",
   "metadata": {},
   "source": [
    "W4A22"
   ]
  },
  {
   "cell_type": "code",
   "execution_count": 128,
   "id": "a7788e10",
   "metadata": {},
   "outputs": [
    {
     "name": "stdout",
     "output_type": "stream",
     "text": [
      "0 3\n"
     ]
    }
   ],
   "source": [
    "n=int(input())\n",
    "if n<0:\n",
    "\tn=-n\n",
    "\n",
    "odd=0\n",
    "even=0\n",
    "while n>0:\n",
    "\teven+=(n%10)%2==0\n",
    "\todd+=(n%10)%2==1\n",
    "\tn//=10\n",
    "print(odd,even)"
   ]
  },
  {
   "cell_type": "markdown",
   "id": "c5f3e88f",
   "metadata": {},
   "source": [
    "W4A23"
   ]
  },
  {
   "cell_type": "code",
   "execution_count": 164,
   "id": "dd79f3f9",
   "metadata": {},
   "outputs": [
    {
     "name": "stdout",
     "output_type": "stream",
     "text": [
      "4\n"
     ]
    }
   ],
   "source": [
    "n=int(input())\n",
    "if n<=1: \n",
    "\tprint(0)\n",
    "for i in range(1,n): \n",
    "\tif i*(i+1)/2>=n:\n",
    "\t\tprint(i-1)\n",
    "\t\tbreak\n",
    "\t"
   ]
  },
  {
   "cell_type": "markdown",
   "id": "3d8a5986",
   "metadata": {},
   "source": [
    "W4A24"
   ]
  },
  {
   "cell_type": "code",
   "execution_count": 169,
   "id": "365568f0",
   "metadata": {},
   "outputs": [
    {
     "name": "stdout",
     "output_type": "stream",
     "text": [
      "31\n"
     ]
    }
   ],
   "source": [
    "a=int(input())\n",
    "sum=0\n",
    "n=1\n",
    "while sum<a:\n",
    "\tsum+=1/n\n",
    "\tn+=1\n",
    "print(n-1)"
   ]
  },
  {
   "cell_type": "markdown",
   "id": "b33ad4ed",
   "metadata": {},
   "source": [
    "W4A25"
   ]
  }
 ],
 "metadata": {
  "kernelspec": {
   "display_name": ".venv",
   "language": "python",
   "name": "python3"
  },
  "language_info": {
   "codemirror_mode": {
    "name": "ipython",
    "version": 3
   },
   "file_extension": ".py",
   "mimetype": "text/x-python",
   "name": "python",
   "nbconvert_exporter": "python",
   "pygments_lexer": "ipython3",
   "version": "3.10.6"
  }
 },
 "nbformat": 4,
 "nbformat_minor": 5
}
