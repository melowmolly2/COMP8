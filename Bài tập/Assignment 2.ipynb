{
 "cells": [
  {
   "cell_type": "markdown",
   "id": "f648fae2",
   "metadata": {},
   "source": [
    "1"
   ]
  },
  {
   "cell_type": "code",
   "execution_count": null,
   "id": "9d150c12",
   "metadata": {},
   "outputs": [],
   "source": [
    "a = 7\n",
    "b = 5\n",
    "c = a - b\n",
    "print (c)"
   ]
  },
  {
   "cell_type": "markdown",
   "id": "291caac7",
   "metadata": {},
   "source": [
    "2"
   ]
  },
  {
   "cell_type": "code",
   "execution_count": null,
   "id": "8b8a0e90",
   "metadata": {},
   "outputs": [],
   "source": [
    "city = \"Hà Nội\"\n",
    "year = 2025\n",
    "print(\"Thành phố:\", city, \"- Năm:\",year)"
   ]
  },
  {
   "cell_type": "markdown",
   "id": "879f3bdc",
   "metadata": {},
   "source": [
    "3"
   ]
  },
  {
   "cell_type": "code",
   "execution_count": null,
   "id": "d8884daf",
   "metadata": {},
   "outputs": [],
   "source": [
    "n = 4\n",
    "t = 0\n",
    "for i in range(1,n+1):\n",
    "    t += i\n",
    "print(t)"
   ]
  },
  {
   "cell_type": "markdown",
   "id": "6e302bd5",
   "metadata": {},
   "source": [
    "Sau mỗi lần lặp for với i=1,2,3,4, t từ 0 sẽ được cộng với các giá trị i sau mỗi lần lặp\n",
    "Sau khi lặp lần cuối (t += 4), in kết quả cuối cùng của t = 10 = 0+1+2+3+4"
   ]
  },
  {
   "cell_type": "markdown",
   "id": "7fb2660e",
   "metadata": {},
   "source": [
    "4"
   ]
  },
  {
   "cell_type": "code",
   "execution_count": null,
   "id": "614e8b87",
   "metadata": {},
   "outputs": [],
   "source": [
    "numbers = [1,2,3,4]\n",
    "for x in numbers:\n",
    "    if x % 2 == 0:\n",
    "        print(\"X là số chẵn\")\n",
    "    else:\n",
    "        print(\"X là số lẻ\")"
   ]
  },
  {
   "cell_type": "markdown",
   "id": "59715590",
   "metadata": {},
   "source": [
    "Lệnh lặp for sẽ xét duyệt if-else cho từng giá trị trong list để xem đó là số lẻ hay chẵn\n"
   ]
  },
  {
   "cell_type": "markdown",
   "id": "df35559d",
   "metadata": {},
   "source": [
    "5"
   ]
  },
  {
   "cell_type": "code",
   "execution_count": null,
   "id": "7673e167",
   "metadata": {},
   "outputs": [],
   "source": [
    "animals = [\"cat\", \"dog\", \"elephant\"]\n",
    "count = 0\n",
    "for i in animals:\n",
    "    count += 1\n",
    "print(\"Số lượng phần tử trong danh sách là:\", count)"
   ]
  },
  {
   "cell_type": "markdown",
   "id": "cc9a6113",
   "metadata": {},
   "source": [
    "Với mỗi lần lặp for, số count sẽ được cộng thêm 1, và số lần lặp = số phần tử trong list\n",
    "Khi print số count cũng sẽ in ra số phần tử trong list"
   ]
  },
  {
   "cell_type": "markdown",
   "id": "a91c64db",
   "metadata": {},
   "source": [
    "6"
   ]
  },
  {
   "cell_type": "markdown",
   "id": "d86ad3b6",
   "metadata": {},
   "source": [
    "Chương trình này đang hiển thị một menu cho người dùng với tiêu đề \"AI Prediction System\" và ba lựa chọn:\n",
    "Phân tích cảm xúc (Sentiment analysis)\n",
    "Dự báo thời tiết (Weather forecast)\n",
    "Thoát (Exit)\n",
    "Sau đó, chương trình yêu cầu người dùng chọn một tùy chọn bằng cách nhập vào số tương ứng.\n",
    "Đây là phần giao diện nhập liệu cho một chương trình dự đoán sử dụng AI.\n"
   ]
  },
  {
   "cell_type": "markdown",
   "id": "f708f0b0",
   "metadata": {},
   "source": [
    "7"
   ]
  },
  {
   "cell_type": "code",
   "execution_count": null,
   "id": "32224555",
   "metadata": {},
   "outputs": [],
   "source": [
    "num = input(\"Nhập số: \")\n",
    "if int(num) % 2 == 0:\n",
    "    print(\"Số chẵn\")\n",
    "else:\n",
    "    print(\"Số lẻ\")"
   ]
  },
  {
   "cell_type": "markdown",
   "id": "872b7220",
   "metadata": {},
   "source": [
    "Ở dòng 2 của đoạn mã do AI tạo, dấu \"=\" cần phải được thay bằng dấu \"==\""
   ]
  },
  {
   "cell_type": "markdown",
   "id": "cc1cd874",
   "metadata": {},
   "source": [
    "8"
   ]
  },
  {
   "cell_type": "code",
   "execution_count": null,
   "id": "af0525b8",
   "metadata": {},
   "outputs": [],
   "source": [
    "for i in range(3):\n",
    "    print(\"AI đang học lần\",i + 1)\n",
    "print(\"Huấn luyện xong!\")"
   ]
  },
  {
   "cell_type": "markdown",
   "id": "854fd8bf",
   "metadata": {},
   "source": [
    "Lệnh for sẽ lặp lại lệnh print 3 lần với mỗi giá trị i = 0,1,2; mỗi lần print sẽ có số lần AI học tương ứng với i + 1, do i bắt đầu từ 0.\n",
    "Sau khi vòng lặp kết thúc => AI đã học xong => In \"Huấn luyện xong!\"\n"
   ]
  },
  {
   "cell_type": "markdown",
   "id": "f98e8950",
   "metadata": {},
   "source": [
    "9"
   ]
  },
  {
   "cell_type": "code",
   "execution_count": null,
   "id": "020fae96",
   "metadata": {},
   "outputs": [],
   "source": [
    "for x in [\"cat\", \"dog\", \"fish\"]:\n",
    "    print(\"Dự đoán con vật:\",x)"
   ]
  },
  {
   "cell_type": "markdown",
   "id": "13c42a78",
   "metadata": {},
   "source": [
    "Lệnh for sẽ lặp lại từng giá trị xong list để nhét vào chuỗi string trong print"
   ]
  },
  {
   "cell_type": "markdown",
   "id": "936b52be",
   "metadata": {},
   "source": [
    "10"
   ]
  },
  {
   "cell_type": "markdown",
   "id": "040ab60a",
   "metadata": {},
   "source": [
    "Ở dòng 1, đoạn code thiếu hai dấu \"(\" ở đầu và dấu \")\" ở cuối\n",
    "Ở dòng 4, đoạn code bị thừa một dấu \")\" ở cuối\n",
    "Ở dòng 3,5, đoạn code bị thiếu một dấu \")\" ở cuối\n",
    " Ở dòng 5, nên sử dụng dấu \" \" thay vì ' ' để giữ tính đồng bộ"
   ]
  }
 ],
 "metadata": {
  "kernelspec": {
   "display_name": ".venv",
   "language": "python",
   "name": "python3"
  },
  "language_info": {
   "name": "python",
   "version": "3.10.6"
  }
 },
 "nbformat": 4,
 "nbformat_minor": 5
}
